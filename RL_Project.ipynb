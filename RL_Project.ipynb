{
 "cells": [
  {
   "cell_type": "code",
   "execution_count": 1,
   "id": "9911039d",
   "metadata": {},
   "outputs": [],
   "source": [
    "import gymnasium as gym \n",
    "from normalized_env import NormalizedActionWrapper\n",
    "from random_agent import RandomAgent\n",
    "from heuristic_pendulum_agent import HeuristicPendulumAgent\n",
    "import numpy as np"
   ]
  },
  {
   "cell_type": "code",
   "execution_count": 2,
   "id": "f51ef063",
   "metadata": {},
   "outputs": [],
   "source": [
    "env = NormalizedActionWrapper(gym.make(\"Pendulum-v1\", render_mode=\"human\"))\n",
    "observation, info = env.reset(seed=42)\n",
    "action = 0\n",
    "reward_vector = np.zeros(400)\n",
    "random_agent = RandomAgent(env)\n",
    "heuristic_agent = HeuristicPendulumAgent(env)\n",
    "for _ in range(200):\n",
    "    #Joint torque interval is [-2,2]\n",
    "    action =heuristic_agent.compute_action(observation) #Question 3  Heuristic Policy\n",
    "    #action = random_agent.compute_action(observation) #random policy\n",
    "    \n",
    "    observation, reward, terminated, truncated, info = env.step(action)\n",
    "    \n",
    "    reward_vector[_]=reward\n",
    "    \n",
    "    env.render()\n",
    "    if terminated or truncated:\n",
    "        observation, info = env.reset()\n",
    "env.close()\n",
    "\n"
   ]
  },
  {
   "cell_type": "code",
   "execution_count": null,
   "id": "dd3929b8",
   "metadata": {},
   "outputs": [],
   "source": [
    "import matplotlib.pyplot as plt\n",
    "fig, ax = plt.subplots()\n",
    "ax.plot(reward_vector,label=\"reward\")\n",
    "plt.xlabel('time step')\n",
    "plt.ylabel('Reward for Heuristic Policy')\n",
    "\n",
    "plt.legend()\n",
    "plt.show()"
   ]
  },
  {
   "cell_type": "code",
   "execution_count": null,
   "id": "653fb0a0",
   "metadata": {},
   "outputs": [],
   "source": []
  },
  {
   "cell_type": "code",
   "execution_count": null,
   "id": "c019dba4",
   "metadata": {},
   "outputs": [],
   "source": []
  }
 ],
 "metadata": {
  "kernelspec": {
   "display_name": "Python 3 (ipykernel)",
   "language": "python",
   "name": "python3"
  },
  "language_info": {
   "codemirror_mode": {
    "name": "ipython",
    "version": 3
   },
   "file_extension": ".py",
   "mimetype": "text/x-python",
   "name": "python",
   "nbconvert_exporter": "python",
   "pygments_lexer": "ipython3",
   "version": "3.8.10"
  }
 },
 "nbformat": 4,
 "nbformat_minor": 5
}
